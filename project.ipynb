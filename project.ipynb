{
  "cells": [
    {
      "cell_type": "markdown",
      "metadata": {
        "id": "Md413FzAvFD8"
      },
      "source": [
        "# DX 704 Week 6 Project\n",
        "\n",
        "This project will develop a treatment plan for a fictious illness \"Twizzleflu\".\n",
        "Twizzleflu is a mild illness caused by a virus.\n",
        "The main symptoms are a mild fever, fidgeting, and kicking the blankets off the bed or couch.\n",
        "Mild dehydration has also been reported in more severe cases.\n",
        "These symptoms typically last 1-2 weeks without treatment.\n",
        "Word on the internet says that Twizzleflu can be cured faster by drinking copious orange juice, but this has not been supported by evidence so far.\n",
        "You will be provided with a theoretical model of Twizzleflu modeled as a Markov decision process.\n",
        "Based on the model, you will compute optimal treatment plans to optimize different criteria, and compare patient discomfort with the different plans."
      ]
    },
    {
      "cell_type": "markdown",
      "metadata": {
        "id": "kzyRo9Tw5VcB"
      },
      "source": [
        "The full project description, a template notebook, and raw data are available on GitHub: [Project 6 Materials](https://github.com/bu-cds-dx704/dx704-project-06)."
      ]
    },
    {
      "cell_type": "markdown",
      "metadata": {
        "id": "tGYOZcnP6Vfu"
      },
      "source": [
        "We will model Twizzleflu as a Markov decision process.\n",
        "The model transition probabilities are provided in the file \"twizzleflu-transitions.tsv\" and the expected rewards are in \"twizzleflu-rewards.tsv\".\n",
        "The goal for Twizzleflu is to minimize the expected discomfort of the patient which is expressed as negative rewards in the file."
      ]
    },
    {
      "cell_type": "markdown",
      "metadata": {
        "id": "dlm2sUsades5"
      },
      "source": [
        "## Example Code\n",
        "\n",
        "You may find it helpful to refer to these GitHub repositories of Jupyter notebooks for example code.\n",
        "\n",
        "* https://github.com/bu-cds-omds/dx601-examples\n",
        "* https://github.com/bu-cds-omds/dx602-examples\n",
        "* https://github.com/bu-cds-omds/dx603-examples\n",
        "* https://github.com/bu-cds-omds/dx704-examples\n",
        "\n",
        "Any calculations demonstrated in code examples or videos may be found in these notebooks, and you are allowed to copy this example code in your homework answers."
      ]
    },
    {
      "cell_type": "markdown",
      "metadata": {
        "id": "C8oSLkMqvMFF"
      },
      "source": [
        "## Part 1: Evaluate a Do Nothing Plan\n",
        "\n",
        "One of the treatment actions is to do nothing.\n",
        "Calculate the expected discomfort (not rewards) of a policy that always does nothing."
      ]
    },
    {
      "cell_type": "markdown",
      "metadata": {
        "id": "cvG4mi_sAF9A"
      },
      "source": [
        "Hint: for this value calculation and later ones, use value iteration.\n",
        "The analytical solution has difficulties in practice when there is no discount factor."
      ]
    },
    {
      "cell_type": "code",
      "execution_count": 1,
      "metadata": {},
      "outputs": [],
      "source": [
        "import numpy as np\n",
        "import pandas as pd\n",
        "import matplotlib.pyplot as plt\n",
        "import seaborn as sns"
      ]
    },
    {
      "cell_type": "code",
      "execution_count": 2,
      "metadata": {
        "id": "RVfnE8vf8yIl"
      },
      "outputs": [],
      "source": [
        "# Read the datafiles into dataframes\n",
        "path = r\"C:\\Users\\JT von Seggern\\DS Masters Repos\\Module-8-Projects\\dx704-project-06\"\n",
        "df_rewards = pd.read_csv(rf\"{path}\\twizzleflu-rewards.tsv\", sep='\\t')\n",
        "df_transitions = pd.read_csv(rf\"{path}\\twizzleflu-transitions.tsv\", sep='\\t')"
      ]
    },
    {
      "cell_type": "code",
      "execution_count": 3,
      "metadata": {},
      "outputs": [
        {
          "data": {
            "text/html": [
              "<div>\n",
              "<style scoped>\n",
              "    .dataframe tbody tr th:only-of-type {\n",
              "        vertical-align: middle;\n",
              "    }\n",
              "\n",
              "    .dataframe tbody tr th {\n",
              "        vertical-align: top;\n",
              "    }\n",
              "\n",
              "    .dataframe thead th {\n",
              "        text-align: right;\n",
              "    }\n",
              "</style>\n",
              "<table border=\"1\" class=\"dataframe\">\n",
              "  <thead>\n",
              "    <tr style=\"text-align: right;\">\n",
              "      <th></th>\n",
              "      <th>action</th>\n",
              "      <th>state</th>\n",
              "      <th>reward</th>\n",
              "    </tr>\n",
              "  </thead>\n",
              "  <tbody>\n",
              "    <tr>\n",
              "      <th>0</th>\n",
              "      <td>do-nothing</td>\n",
              "      <td>exposed-1</td>\n",
              "      <td>0.0</td>\n",
              "    </tr>\n",
              "    <tr>\n",
              "      <th>1</th>\n",
              "      <td>do-nothing</td>\n",
              "      <td>exposed-2</td>\n",
              "      <td>0.0</td>\n",
              "    </tr>\n",
              "    <tr>\n",
              "      <th>2</th>\n",
              "      <td>do-nothing</td>\n",
              "      <td>exposed-3</td>\n",
              "      <td>0.0</td>\n",
              "    </tr>\n",
              "    <tr>\n",
              "      <th>3</th>\n",
              "      <td>do-nothing</td>\n",
              "      <td>symptoms-1</td>\n",
              "      <td>-0.5</td>\n",
              "    </tr>\n",
              "    <tr>\n",
              "      <th>4</th>\n",
              "      <td>do-nothing</td>\n",
              "      <td>symptoms-2</td>\n",
              "      <td>-1.0</td>\n",
              "    </tr>\n",
              "  </tbody>\n",
              "</table>\n",
              "</div>"
            ],
            "text/plain": [
              "       action       state  reward\n",
              "0  do-nothing   exposed-1     0.0\n",
              "1  do-nothing   exposed-2     0.0\n",
              "2  do-nothing   exposed-3     0.0\n",
              "3  do-nothing  symptoms-1    -0.5\n",
              "4  do-nothing  symptoms-2    -1.0"
            ]
          },
          "execution_count": 3,
          "metadata": {},
          "output_type": "execute_result"
        }
      ],
      "source": [
        "df_rewards.head()"
      ]
    },
    {
      "cell_type": "code",
      "execution_count": 4,
      "metadata": {},
      "outputs": [
        {
          "data": {
            "text/html": [
              "<div>\n",
              "<style scoped>\n",
              "    .dataframe tbody tr th:only-of-type {\n",
              "        vertical-align: middle;\n",
              "    }\n",
              "\n",
              "    .dataframe tbody tr th {\n",
              "        vertical-align: top;\n",
              "    }\n",
              "\n",
              "    .dataframe thead th {\n",
              "        text-align: right;\n",
              "    }\n",
              "</style>\n",
              "<table border=\"1\" class=\"dataframe\">\n",
              "  <thead>\n",
              "    <tr style=\"text-align: right;\">\n",
              "      <th></th>\n",
              "      <th>action</th>\n",
              "      <th>state</th>\n",
              "      <th>next_state</th>\n",
              "      <th>probability</th>\n",
              "    </tr>\n",
              "  </thead>\n",
              "  <tbody>\n",
              "    <tr>\n",
              "      <th>0</th>\n",
              "      <td>do-nothing</td>\n",
              "      <td>exposed-1</td>\n",
              "      <td>exposed-2</td>\n",
              "      <td>0.8</td>\n",
              "    </tr>\n",
              "    <tr>\n",
              "      <th>1</th>\n",
              "      <td>do-nothing</td>\n",
              "      <td>exposed-1</td>\n",
              "      <td>recovered</td>\n",
              "      <td>0.2</td>\n",
              "    </tr>\n",
              "    <tr>\n",
              "      <th>2</th>\n",
              "      <td>do-nothing</td>\n",
              "      <td>exposed-2</td>\n",
              "      <td>exposed-3</td>\n",
              "      <td>0.8</td>\n",
              "    </tr>\n",
              "    <tr>\n",
              "      <th>3</th>\n",
              "      <td>do-nothing</td>\n",
              "      <td>exposed-2</td>\n",
              "      <td>recovered</td>\n",
              "      <td>0.2</td>\n",
              "    </tr>\n",
              "    <tr>\n",
              "      <th>4</th>\n",
              "      <td>do-nothing</td>\n",
              "      <td>exposed-3</td>\n",
              "      <td>symptoms-1</td>\n",
              "      <td>0.8</td>\n",
              "    </tr>\n",
              "  </tbody>\n",
              "</table>\n",
              "</div>"
            ],
            "text/plain": [
              "       action      state  next_state  probability\n",
              "0  do-nothing  exposed-1   exposed-2          0.8\n",
              "1  do-nothing  exposed-1   recovered          0.2\n",
              "2  do-nothing  exposed-2   exposed-3          0.8\n",
              "3  do-nothing  exposed-2   recovered          0.2\n",
              "4  do-nothing  exposed-3  symptoms-1          0.8"
            ]
          },
          "execution_count": 4,
          "metadata": {},
          "output_type": "execute_result"
        }
      ],
      "source": [
        "df_transitions.head()"
      ]
    },
    {
      "cell_type": "markdown",
      "metadata": {
        "id": "oji9gHEk8ytE"
      },
      "source": [
        "Save the expected discomfort by state to a file \"do-nothing-discomfort.tsv\" with columns state and expected_discomfort."
      ]
    },
    {
      "cell_type": "code",
      "execution_count": 5,
      "metadata": {},
      "outputs": [],
      "source": [
        "def compute_qT_once(R, P, gamma, v):\n",
        "    return R + gamma * P @ v"
      ]
    },
    {
      "cell_type": "code",
      "execution_count": 6,
      "metadata": {},
      "outputs": [],
      "source": [
        "def iterate_values_once(R, P, gamma, v):\n",
        "    return np.max(compute_qT_once(R, P, gamma, v), axis=0)"
      ]
    },
    {
      "cell_type": "code",
      "execution_count": 7,
      "metadata": {},
      "outputs": [],
      "source": [
        "def value_iteration(R, P, gamma, max_iterations=100, tolerance=0.001):\n",
        "    # initial approximation v_0\n",
        "    v_old = np.zeros(R.shape[-1])\n",
        "\n",
        "    for i in range(max_iterations):\n",
        "        # compute v_{i+1}\n",
        "        v_new = iterate_values_once(R, P, gamma, v_old)\n",
        "\n",
        "        # check if values did not change much\n",
        "        if np.max(np.abs(v_new - v_old)) < tolerance:\n",
        "            return v_new\n",
        "\n",
        "        v_old = v_new\n",
        "\n",
        "    # return v_{max_iterations}\n",
        "    return v_old"
      ]
    },
    {
      "cell_type": "code",
      "execution_count": 8,
      "metadata": {},
      "outputs": [
        {
          "data": {
            "text/html": [
              "<div>\n",
              "<style scoped>\n",
              "    .dataframe tbody tr th:only-of-type {\n",
              "        vertical-align: middle;\n",
              "    }\n",
              "\n",
              "    .dataframe tbody tr th {\n",
              "        vertical-align: top;\n",
              "    }\n",
              "\n",
              "    .dataframe thead th {\n",
              "        text-align: right;\n",
              "    }\n",
              "</style>\n",
              "<table border=\"1\" class=\"dataframe\">\n",
              "  <thead>\n",
              "    <tr style=\"text-align: right;\">\n",
              "      <th></th>\n",
              "      <th>state</th>\n",
              "      <th>expected_discomfort</th>\n",
              "    </tr>\n",
              "  </thead>\n",
              "  <tbody>\n",
              "    <tr>\n",
              "      <th>0</th>\n",
              "      <td>exposed-1</td>\n",
              "      <td>3.413333</td>\n",
              "    </tr>\n",
              "    <tr>\n",
              "      <th>1</th>\n",
              "      <td>exposed-2</td>\n",
              "      <td>4.266667</td>\n",
              "    </tr>\n",
              "    <tr>\n",
              "      <th>2</th>\n",
              "      <td>exposed-3</td>\n",
              "      <td>5.333333</td>\n",
              "    </tr>\n",
              "    <tr>\n",
              "      <th>3</th>\n",
              "      <td>recovered</td>\n",
              "      <td>-0.000000</td>\n",
              "    </tr>\n",
              "    <tr>\n",
              "      <th>4</th>\n",
              "      <td>symptoms-1</td>\n",
              "      <td>6.666667</td>\n",
              "    </tr>\n",
              "    <tr>\n",
              "      <th>5</th>\n",
              "      <td>symptoms-2</td>\n",
              "      <td>5.000000</td>\n",
              "    </tr>\n",
              "    <tr>\n",
              "      <th>6</th>\n",
              "      <td>symptoms-3</td>\n",
              "      <td>1.666667</td>\n",
              "    </tr>\n",
              "  </tbody>\n",
              "</table>\n",
              "</div>"
            ],
            "text/plain": [
              "        state  expected_discomfort\n",
              "0   exposed-1             3.413333\n",
              "1   exposed-2             4.266667\n",
              "2   exposed-3             5.333333\n",
              "3   recovered            -0.000000\n",
              "4  symptoms-1             6.666667\n",
              "5  symptoms-2             5.000000\n",
              "6  symptoms-3             1.666667"
            ]
          },
          "execution_count": 8,
          "metadata": {},
          "output_type": "execute_result"
        }
      ],
      "source": [
        "# Get all states (including terminal states that may only appear in next_state)\n",
        "states = sorted(set(df_transitions['state']).union(df_transitions['next_state']))\n",
        "state_idx = {s: i for i, s in enumerate(states)}\n",
        "S = len(states)\n",
        "\n",
        "# Build reward vector for \"do-nothing\" action\n",
        "r_1 = np.zeros(S, dtype=float)\n",
        "do_nothing_rewards = df_rewards[df_rewards['action'] == 'do-nothing']\n",
        "for _, row in do_nothing_rewards.iterrows():\n",
        "    r_1[state_idx[row['state']]] = row['reward']\n",
        "\n",
        "# Build transition matrix for \"do-nothing\" action\n",
        "P_1 = np.zeros((S, S), dtype=float)\n",
        "do_nothing_trans = df_transitions[df_transitions['action'] == 'do-nothing']\n",
        "for _, row in do_nothing_trans.iterrows():\n",
        "    i = state_idx[row['state']]\n",
        "    j = state_idx[row['next_state']]\n",
        "    P_1[i, j] = row['probability']\n",
        "\n",
        "# Reshape for value_iteration (expects shape (num_actions, num_states, ...))\n",
        "r_1 = r_1.reshape(1,-1)\n",
        "P_1 = P_1.reshape(1, S, S)\n",
        "\n",
        "# Run value iteration\n",
        "gamma_1 = 1\n",
        "v_1 = value_iteration(r_1, P_1, gamma_1, max_iterations=10000, tolerance=1e-8) * -1\n",
        "\n",
        "# Save results\n",
        "df_nothing = pd.DataFrame({\n",
        "    'state': states,\n",
        "    'expected_discomfort': v_1.flatten()\n",
        "})\n",
        "\n",
        "df_nothing\n"
      ]
    },
    {
      "cell_type": "code",
      "execution_count": 9,
      "metadata": {},
      "outputs": [],
      "source": [
        "df_nothing.to_csv(\"submission/do-nothing-discomfort.tsv\", sep='\\t', index=False)"
      ]
    },
    {
      "cell_type": "markdown",
      "metadata": {
        "id": "7-8sGANC-Dzs"
      },
      "source": [
        "Submit \"do-nothing-discomfort.tsv\" in Gradescope."
      ]
    },
    {
      "cell_type": "markdown",
      "metadata": {
        "id": "RJ1ietVp9BCS"
      },
      "source": [
        "## Part 2: Compute an Optimal Treatment Plan\n",
        "\n",
        "Compute an optimal treatment plan for Twizzleflu.\n",
        "It should minimize the expected discomfort (maximize the rewards)."
      ]
    },
    {
      "cell_type": "code",
      "execution_count": 10,
      "metadata": {},
      "outputs": [
        {
          "data": {
            "text/html": [
              "<div>\n",
              "<style scoped>\n",
              "    .dataframe tbody tr th:only-of-type {\n",
              "        vertical-align: middle;\n",
              "    }\n",
              "\n",
              "    .dataframe tbody tr th {\n",
              "        vertical-align: top;\n",
              "    }\n",
              "\n",
              "    .dataframe thead th {\n",
              "        text-align: right;\n",
              "    }\n",
              "</style>\n",
              "<table border=\"1\" class=\"dataframe\">\n",
              "  <thead>\n",
              "    <tr style=\"text-align: right;\">\n",
              "      <th></th>\n",
              "      <th>state</th>\n",
              "      <th>action</th>\n",
              "    </tr>\n",
              "  </thead>\n",
              "  <tbody>\n",
              "    <tr>\n",
              "      <th>0</th>\n",
              "      <td>exposed-1</td>\n",
              "      <td>sleep-8</td>\n",
              "    </tr>\n",
              "    <tr>\n",
              "      <th>1</th>\n",
              "      <td>exposed-2</td>\n",
              "      <td>sleep-8</td>\n",
              "    </tr>\n",
              "    <tr>\n",
              "      <th>2</th>\n",
              "      <td>exposed-3</td>\n",
              "      <td>sleep-8</td>\n",
              "    </tr>\n",
              "    <tr>\n",
              "      <th>3</th>\n",
              "      <td>recovered</td>\n",
              "      <td>do-nothing</td>\n",
              "    </tr>\n",
              "    <tr>\n",
              "      <th>4</th>\n",
              "      <td>symptoms-1</td>\n",
              "      <td>drink-oj</td>\n",
              "    </tr>\n",
              "    <tr>\n",
              "      <th>5</th>\n",
              "      <td>symptoms-2</td>\n",
              "      <td>drink-oj</td>\n",
              "    </tr>\n",
              "    <tr>\n",
              "      <th>6</th>\n",
              "      <td>symptoms-3</td>\n",
              "      <td>drink-oj</td>\n",
              "    </tr>\n",
              "  </tbody>\n",
              "</table>\n",
              "</div>"
            ],
            "text/plain": [
              "        state      action\n",
              "0   exposed-1     sleep-8\n",
              "1   exposed-2     sleep-8\n",
              "2   exposed-3     sleep-8\n",
              "3   recovered  do-nothing\n",
              "4  symptoms-1    drink-oj\n",
              "5  symptoms-2    drink-oj\n",
              "6  symptoms-3    drink-oj"
            ]
          },
          "execution_count": 10,
          "metadata": {},
          "output_type": "execute_result"
        }
      ],
      "source": [
        "# Get all actions\n",
        "actions = sorted(df_rewards['action'].unique())\n",
        "action_idx = {a: i for i, a in enumerate(actions)}\n",
        "A = len(actions)\n",
        "\n",
        "# Build reward vector for \"do-nothing\" action\n",
        "r_2 = np.zeros((A, S), dtype=float)\n",
        "for _, row in df_rewards.iterrows():\n",
        "    if row['state'] in state_idx:\n",
        "        a = action_idx[row['action']]\n",
        "        s = state_idx[row['state']]\n",
        "        r_2[a, s] = row['reward']\n",
        "\n",
        "# Build transition matrix for \"do-nothing\" action\n",
        "P_2 = np.zeros((A, S, S), dtype=float)\n",
        "for _, row in df_transitions.iterrows():\n",
        "    a = action_idx[row['action']]\n",
        "    i = state_idx[row['state']]\n",
        "    j = state_idx[row['next_state']]\n",
        "    P_2[a, i, j] = row['probability']\n",
        "\n",
        "# Run value iteration\n",
        "gamma_2 = 1\n",
        "v_2 = value_iteration(r_2, P_2, gamma_2, max_iterations=10000, tolerance=1e-8)\n",
        "q_2 = compute_qT_once(r_2, P_2, gamma_2, v_2)\n",
        "a_2 = np.argmax(q_2, axis=0)\n",
        "\n",
        "# Save results\n",
        "df_optimal = pd.DataFrame({\n",
        "    'state': states,\n",
        "    'action': [actions[a] for a in a_2]\n",
        "})\n",
        "\n",
        "df_optimal"
      ]
    },
    {
      "cell_type": "markdown",
      "metadata": {
        "id": "PRcByl1h9nBf"
      },
      "source": [
        "Save the optimal actions for each state to a file \"minimum-discomfort-actions.tsv\" with columns state and action."
      ]
    },
    {
      "cell_type": "code",
      "execution_count": 11,
      "metadata": {
        "id": "FhAajvpX9wru"
      },
      "outputs": [],
      "source": [
        "df_optimal.to_csv(\"submission/minimum-discomfort-actions.tsv\", sep='\\t')"
      ]
    },
    {
      "cell_type": "markdown",
      "metadata": {
        "id": "sr00MlhL-Hdv"
      },
      "source": [
        "Submit \"minimum-discomfort-actions.tsv\" in Gradescope."
      ]
    },
    {
      "cell_type": "markdown",
      "metadata": {
        "id": "65p3NRTy9xjT"
      },
      "source": [
        "## Part 3: Expected Discomfort\n",
        "\n",
        "Using your previous optimal policy, compute the expected discomfort for each state."
      ]
    },
    {
      "cell_type": "code",
      "execution_count": 12,
      "metadata": {
        "id": "t5bHbK24-AhQ"
      },
      "outputs": [
        {
          "data": {
            "text/html": [
              "<div>\n",
              "<style scoped>\n",
              "    .dataframe tbody tr th:only-of-type {\n",
              "        vertical-align: middle;\n",
              "    }\n",
              "\n",
              "    .dataframe tbody tr th {\n",
              "        vertical-align: top;\n",
              "    }\n",
              "\n",
              "    .dataframe thead th {\n",
              "        text-align: right;\n",
              "    }\n",
              "</style>\n",
              "<table border=\"1\" class=\"dataframe\">\n",
              "  <thead>\n",
              "    <tr style=\"text-align: right;\">\n",
              "      <th></th>\n",
              "      <th>state</th>\n",
              "      <th>expected_discomfort</th>\n",
              "    </tr>\n",
              "  </thead>\n",
              "  <tbody>\n",
              "    <tr>\n",
              "      <th>0</th>\n",
              "      <td>exposed-1</td>\n",
              "      <td>0.75</td>\n",
              "    </tr>\n",
              "    <tr>\n",
              "      <th>1</th>\n",
              "      <td>exposed-2</td>\n",
              "      <td>1.50</td>\n",
              "    </tr>\n",
              "    <tr>\n",
              "      <th>2</th>\n",
              "      <td>exposed-3</td>\n",
              "      <td>3.00</td>\n",
              "    </tr>\n",
              "    <tr>\n",
              "      <th>3</th>\n",
              "      <td>recovered</td>\n",
              "      <td>-0.00</td>\n",
              "    </tr>\n",
              "    <tr>\n",
              "      <th>4</th>\n",
              "      <td>symptoms-1</td>\n",
              "      <td>6.00</td>\n",
              "    </tr>\n",
              "    <tr>\n",
              "      <th>5</th>\n",
              "      <td>symptoms-2</td>\n",
              "      <td>4.50</td>\n",
              "    </tr>\n",
              "    <tr>\n",
              "      <th>6</th>\n",
              "      <td>symptoms-3</td>\n",
              "      <td>1.50</td>\n",
              "    </tr>\n",
              "  </tbody>\n",
              "</table>\n",
              "</div>"
            ],
            "text/plain": [
              "        state  expected_discomfort\n",
              "0   exposed-1                 0.75\n",
              "1   exposed-2                 1.50\n",
              "2   exposed-3                 3.00\n",
              "3   recovered                -0.00\n",
              "4  symptoms-1                 6.00\n",
              "5  symptoms-2                 4.50\n",
              "6  symptoms-3                 1.50"
            ]
          },
          "execution_count": 12,
          "metadata": {},
          "output_type": "execute_result"
        }
      ],
      "source": [
        "# Get the optimal action for each state (from Part 2)\n",
        "# a_2 contains the action indices, r_2.index contains action names\n",
        "optimal_actions = r_2[a_2]\n",
        "optimal_policy = {states[i]: actions[a] for i, a in enumerate(a_2)}\n",
        "\n",
        "# Build the reward vector for the optimal policy\n",
        "r_opt = np.zeros(S, dtype=float)\n",
        "for state in states:\n",
        "    if state in optimal_policy:\n",
        "        action = optimal_policy[state]\n",
        "        # Get reward for this state-action pair\n",
        "        reward_row = df_rewards[(df_rewards['state'] == state) & (df_rewards['action'] == action)]\n",
        "        if not reward_row.empty:\n",
        "            r_opt[state_idx[state]] = reward_row['reward'].values[0]\n",
        "\n",
        "# Build transition matrix for the optimal policy\n",
        "P_opt = np.zeros((S, S), dtype=float)\n",
        "for state in states:\n",
        "    if state in optimal_policy:\n",
        "        action = optimal_policy[state]\n",
        "        # Get transitions for this state-action pair\n",
        "        trans_rows = df_transitions[(df_transitions['state'] == state) & (df_transitions['action'] == action)]\n",
        "        for _, row in trans_rows.iterrows():\n",
        "            i = state_idx[row['state']]\n",
        "            j = state_idx[row['next_state']]\n",
        "            P_opt[i, j] = row['probability']\n",
        "\n",
        "# Reshape for value_iteration\n",
        "r_opt = r_opt.reshape(1, -1)\n",
        "P_opt = P_opt.reshape(1, S, S)\n",
        "\n",
        "# Run value iteration for the fixed optimal policy\n",
        "gamma_3 = 1.0\n",
        "v_opt = value_iteration(r_opt, P_opt, gamma_3, max_iterations=10000, tolerance=1e-8) * -1\n",
        "\n",
        "# 7. Save results\n",
        "df_opt_vals = pd.DataFrame({\n",
        "    'state': states,\n",
        "    'expected_discomfort': v_opt.flatten()\n",
        "})\n",
        "\n",
        "df_opt_vals"
      ]
    },
    {
      "cell_type": "markdown",
      "metadata": {
        "id": "Er6-0c0f-BGw"
      },
      "source": [
        "Save your results in a file \"minimum-discomfort-values.tsv\" with columns state and expected_discomfort."
      ]
    },
    {
      "cell_type": "code",
      "execution_count": 13,
      "metadata": {
        "id": "NAQFQnp_-TZ1"
      },
      "outputs": [],
      "source": [
        "df_opt_vals.to_csv(\"submission/minimum-discomfort-values.tsv\", sep='\\t', index=False)"
      ]
    },
    {
      "cell_type": "markdown",
      "metadata": {
        "id": "83wnFZfk-UDd"
      },
      "source": [
        "Submit \"minimum-discomfort-values.tsv\" in Gradescope."
      ]
    },
    {
      "cell_type": "markdown",
      "metadata": {
        "id": "CKUTt9gx-XBF"
      },
      "source": [
        "## Part 4: Minimizing Twizzleflu Duration\n",
        "\n",
        "Modifiy the Markov decision process to minimize the days until the Twizzle flu is over.\n",
        "To do so, change the reward function to always be -1 if the current state corresponds to being sick and 0 if the current state corresponds to being better.\n",
        "To be clear, the action does not matter for this reward function.\n"
      ]
    },
    {
      "cell_type": "code",
      "execution_count": null,
      "metadata": {
        "id": "HXrnkCh5-trk"
      },
      "outputs": [
        {
          "data": {
            "text/html": [
              "<div>\n",
              "<style scoped>\n",
              "    .dataframe tbody tr th:only-of-type {\n",
              "        vertical-align: middle;\n",
              "    }\n",
              "\n",
              "    .dataframe tbody tr th {\n",
              "        vertical-align: top;\n",
              "    }\n",
              "\n",
              "    .dataframe thead th {\n",
              "        text-align: right;\n",
              "    }\n",
              "</style>\n",
              "<table border=\"1\" class=\"dataframe\">\n",
              "  <thead>\n",
              "    <tr style=\"text-align: right;\">\n",
              "      <th></th>\n",
              "      <th>action</th>\n",
              "      <th>state</th>\n",
              "      <th>reward</th>\n",
              "    </tr>\n",
              "  </thead>\n",
              "  <tbody>\n",
              "    <tr>\n",
              "      <th>0</th>\n",
              "      <td>do-nothing</td>\n",
              "      <td>exposed-1</td>\n",
              "      <td>0</td>\n",
              "    </tr>\n",
              "    <tr>\n",
              "      <th>1</th>\n",
              "      <td>do-nothing</td>\n",
              "      <td>exposed-2</td>\n",
              "      <td>0</td>\n",
              "    </tr>\n",
              "    <tr>\n",
              "      <th>2</th>\n",
              "      <td>do-nothing</td>\n",
              "      <td>exposed-3</td>\n",
              "      <td>0</td>\n",
              "    </tr>\n",
              "    <tr>\n",
              "      <th>3</th>\n",
              "      <td>do-nothing</td>\n",
              "      <td>symptoms-1</td>\n",
              "      <td>-1</td>\n",
              "    </tr>\n",
              "    <tr>\n",
              "      <th>4</th>\n",
              "      <td>do-nothing</td>\n",
              "      <td>symptoms-2</td>\n",
              "      <td>-1</td>\n",
              "    </tr>\n",
              "    <tr>\n",
              "      <th>5</th>\n",
              "      <td>do-nothing</td>\n",
              "      <td>symptoms-3</td>\n",
              "      <td>-1</td>\n",
              "    </tr>\n",
              "    <tr>\n",
              "      <th>6</th>\n",
              "      <td>do-nothing</td>\n",
              "      <td>recovered</td>\n",
              "      <td>0</td>\n",
              "    </tr>\n",
              "    <tr>\n",
              "      <th>7</th>\n",
              "      <td>drink-oj</td>\n",
              "      <td>exposed-1</td>\n",
              "      <td>0</td>\n",
              "    </tr>\n",
              "    <tr>\n",
              "      <th>8</th>\n",
              "      <td>drink-oj</td>\n",
              "      <td>exposed-2</td>\n",
              "      <td>0</td>\n",
              "    </tr>\n",
              "    <tr>\n",
              "      <th>9</th>\n",
              "      <td>drink-oj</td>\n",
              "      <td>exposed-3</td>\n",
              "      <td>0</td>\n",
              "    </tr>\n",
              "    <tr>\n",
              "      <th>10</th>\n",
              "      <td>drink-oj</td>\n",
              "      <td>symptoms-1</td>\n",
              "      <td>-1</td>\n",
              "    </tr>\n",
              "    <tr>\n",
              "      <th>11</th>\n",
              "      <td>drink-oj</td>\n",
              "      <td>symptoms-2</td>\n",
              "      <td>-1</td>\n",
              "    </tr>\n",
              "    <tr>\n",
              "      <th>12</th>\n",
              "      <td>drink-oj</td>\n",
              "      <td>symptoms-3</td>\n",
              "      <td>-1</td>\n",
              "    </tr>\n",
              "    <tr>\n",
              "      <th>13</th>\n",
              "      <td>drink-oj</td>\n",
              "      <td>recovered</td>\n",
              "      <td>0</td>\n",
              "    </tr>\n",
              "    <tr>\n",
              "      <th>14</th>\n",
              "      <td>sleep-8</td>\n",
              "      <td>exposed-1</td>\n",
              "      <td>0</td>\n",
              "    </tr>\n",
              "    <tr>\n",
              "      <th>15</th>\n",
              "      <td>sleep-8</td>\n",
              "      <td>exposed-2</td>\n",
              "      <td>0</td>\n",
              "    </tr>\n",
              "    <tr>\n",
              "      <th>16</th>\n",
              "      <td>sleep-8</td>\n",
              "      <td>exposed-3</td>\n",
              "      <td>0</td>\n",
              "    </tr>\n",
              "    <tr>\n",
              "      <th>17</th>\n",
              "      <td>sleep-8</td>\n",
              "      <td>symptoms-1</td>\n",
              "      <td>-1</td>\n",
              "    </tr>\n",
              "    <tr>\n",
              "      <th>18</th>\n",
              "      <td>sleep-8</td>\n",
              "      <td>symptoms-2</td>\n",
              "      <td>-1</td>\n",
              "    </tr>\n",
              "    <tr>\n",
              "      <th>19</th>\n",
              "      <td>sleep-8</td>\n",
              "      <td>symptoms-3</td>\n",
              "      <td>-1</td>\n",
              "    </tr>\n",
              "    <tr>\n",
              "      <th>20</th>\n",
              "      <td>sleep-8</td>\n",
              "      <td>recovered</td>\n",
              "      <td>0</td>\n",
              "    </tr>\n",
              "  </tbody>\n",
              "</table>\n",
              "</div>"
            ],
            "text/plain": [
              "        action       state  reward\n",
              "0   do-nothing   exposed-1       0\n",
              "1   do-nothing   exposed-2       0\n",
              "2   do-nothing   exposed-3       0\n",
              "3   do-nothing  symptoms-1      -1\n",
              "4   do-nothing  symptoms-2      -1\n",
              "5   do-nothing  symptoms-3      -1\n",
              "6   do-nothing   recovered       0\n",
              "7     drink-oj   exposed-1       0\n",
              "8     drink-oj   exposed-2       0\n",
              "9     drink-oj   exposed-3       0\n",
              "10    drink-oj  symptoms-1      -1\n",
              "11    drink-oj  symptoms-2      -1\n",
              "12    drink-oj  symptoms-3      -1\n",
              "13    drink-oj   recovered       0\n",
              "14     sleep-8   exposed-1       0\n",
              "15     sleep-8   exposed-2       0\n",
              "16     sleep-8   exposed-3       0\n",
              "17     sleep-8  symptoms-1      -1\n",
              "18     sleep-8  symptoms-2      -1\n",
              "19     sleep-8  symptoms-3      -1\n",
              "20     sleep-8   recovered       0"
            ]
          },
          "execution_count": 26,
          "metadata": {},
          "output_type": "execute_result"
        }
      ],
      "source": [
        "# Modify the Markov decision process to minimize days until the Twizzle flu is over\n",
        "# Change rewards to -1 for sick and 0 for health states\n",
        "df_rewards_updated = df_rewards.copy()\n",
        "df_rewards_updated['reward'] = np.where(df_rewards_updated['state'].str.startswith('symptoms'), -1, 0)\n",
        "\n",
        "df_rewards_updated"
      ]
    },
    {
      "cell_type": "markdown",
      "metadata": {
        "id": "je9Rt239-uRl"
      },
      "source": [
        "Save your new reward function in a file \"duration-rewards.tsv\" in the same format as \"twizzleflu-rewards.tsv\"."
      ]
    },
    {
      "cell_type": "code",
      "execution_count": 27,
      "metadata": {
        "id": "_cmV1ewj-4-Q"
      },
      "outputs": [],
      "source": [
        "df_rewards_updated.to_csv(\"submission/duration-rewards.tsv\", sep='\\t', index=False)"
      ]
    },
    {
      "cell_type": "markdown",
      "metadata": {
        "id": "r0lubs9v-5XQ"
      },
      "source": [
        "Submit \"duration-rewards.tsv\" in Gradescope."
      ]
    },
    {
      "cell_type": "markdown",
      "metadata": {
        "id": "Jf73YFzB-802"
      },
      "source": [
        "## Part 5: Optimize for Shorter Twizzleflu\n",
        "\n",
        "Compute an optimal policy to minimize the duration of Twizzleflu."
      ]
    },
    {
      "cell_type": "code",
      "execution_count": null,
      "metadata": {
        "id": "Sa_HI0f0_FHA"
      },
      "outputs": [
        {
          "data": {
            "text/html": [
              "<div>\n",
              "<style scoped>\n",
              "    .dataframe tbody tr th:only-of-type {\n",
              "        vertical-align: middle;\n",
              "    }\n",
              "\n",
              "    .dataframe tbody tr th {\n",
              "        vertical-align: top;\n",
              "    }\n",
              "\n",
              "    .dataframe thead th {\n",
              "        text-align: right;\n",
              "    }\n",
              "</style>\n",
              "<table border=\"1\" class=\"dataframe\">\n",
              "  <thead>\n",
              "    <tr style=\"text-align: right;\">\n",
              "      <th></th>\n",
              "      <th>state</th>\n",
              "      <th>action</th>\n",
              "    </tr>\n",
              "  </thead>\n",
              "  <tbody>\n",
              "    <tr>\n",
              "      <th>0</th>\n",
              "      <td>exposed-1</td>\n",
              "      <td>sleep-8</td>\n",
              "    </tr>\n",
              "    <tr>\n",
              "      <th>1</th>\n",
              "      <td>exposed-2</td>\n",
              "      <td>sleep-8</td>\n",
              "    </tr>\n",
              "    <tr>\n",
              "      <th>2</th>\n",
              "      <td>exposed-3</td>\n",
              "      <td>sleep-8</td>\n",
              "    </tr>\n",
              "    <tr>\n",
              "      <th>3</th>\n",
              "      <td>recovered</td>\n",
              "      <td>do-nothing</td>\n",
              "    </tr>\n",
              "    <tr>\n",
              "      <th>4</th>\n",
              "      <td>symptoms-1</td>\n",
              "      <td>do-nothing</td>\n",
              "    </tr>\n",
              "    <tr>\n",
              "      <th>5</th>\n",
              "      <td>symptoms-2</td>\n",
              "      <td>do-nothing</td>\n",
              "    </tr>\n",
              "    <tr>\n",
              "      <th>6</th>\n",
              "      <td>symptoms-3</td>\n",
              "      <td>do-nothing</td>\n",
              "    </tr>\n",
              "  </tbody>\n",
              "</table>\n",
              "</div>"
            ],
            "text/plain": [
              "        state      action\n",
              "0   exposed-1     sleep-8\n",
              "1   exposed-2     sleep-8\n",
              "2   exposed-3     sleep-8\n",
              "3   recovered  do-nothing\n",
              "4  symptoms-1  do-nothing\n",
              "5  symptoms-2  do-nothing\n",
              "6  symptoms-3  do-nothing"
            ]
          },
          "execution_count": 29,
          "metadata": {},
          "output_type": "execute_result"
        }
      ],
      "source": [
        "# Find the optimal policy of the new rewards structure\n",
        "\n",
        "# Build reward vector for new rewards\n",
        "r_5 = np.zeros((A, S), dtype=float)\n",
        "for _, row in df_rewards_updated.iterrows():\n",
        "    if row['state'] in state_idx:\n",
        "        a = action_idx[row['action']]\n",
        "        s = state_idx[row['state']]\n",
        "        r_5[a, s] = row['reward']\n",
        "\n",
        "# Build transition matrix for new rewards\n",
        "P_5 = np.zeros((A, S, S), dtype=float)\n",
        "for _, row in df_transitions.iterrows():\n",
        "    a = action_idx[row['action']]\n",
        "    i = state_idx[row['state']]\n",
        "    j = state_idx[row['next_state']]\n",
        "    P_5[a, i, j] = row['probability']\n",
        "\n",
        "# Run value iteration\n",
        "gamma_5 = 1\n",
        "v_5 = value_iteration(r_5, P_5, gamma_5, max_iterations=10000, tolerance=1e-8)\n",
        "q_5 = compute_qT_once(r_5, P_5, gamma_5, v_5)\n",
        "a_5 = np.argmax(q_5, axis=0)\n",
        "\n",
        "# Save results\n",
        "df_opt_5 = pd.DataFrame({\n",
        "    'state': states,\n",
        "    'action': [actions[a] for a in a_5]\n",
        "})\n",
        "\n",
        "df_opt_5"
      ]
    },
    {
      "cell_type": "markdown",
      "metadata": {
        "id": "px1xDndA_F3O"
      },
      "source": [
        "Save the optimal actions for each state to a file \"minimum-duration-actions.tsv\" with columns state and action."
      ]
    },
    {
      "cell_type": "code",
      "execution_count": 30,
      "metadata": {
        "id": "PGvWqSiI_Sqy"
      },
      "outputs": [],
      "source": [
        "df_opt_5.to_csv(\"submission/minimum-duration-actions.tsv\", sep='\\t', index=False)"
      ]
    },
    {
      "cell_type": "markdown",
      "metadata": {
        "id": "itPVLMaM_UDn"
      },
      "source": [
        "Submit \"minimum-duration-actions.tsv\" in Gradescope."
      ]
    },
    {
      "cell_type": "markdown",
      "metadata": {
        "id": "eOzSQ3fV_XBO"
      },
      "source": [
        "## Part 6: Shorter Twizzleflu?\n",
        "\n",
        "Compute the expected number of days sick for each state to a file."
      ]
    },
    {
      "cell_type": "code",
      "execution_count": 34,
      "metadata": {},
      "outputs": [
        {
          "data": {
            "text/plain": [
              "array([2, 2, 2, 0, 0, 0, 0])"
            ]
          },
          "execution_count": 34,
          "metadata": {},
          "output_type": "execute_result"
        }
      ],
      "source": [
        "a_5"
      ]
    },
    {
      "cell_type": "code",
      "execution_count": 33,
      "metadata": {
        "id": "WO_yubXg_gxn"
      },
      "outputs": [
        {
          "data": {
            "text/html": [
              "<div>\n",
              "<style scoped>\n",
              "    .dataframe tbody tr th:only-of-type {\n",
              "        vertical-align: middle;\n",
              "    }\n",
              "\n",
              "    .dataframe tbody tr th {\n",
              "        vertical-align: top;\n",
              "    }\n",
              "\n",
              "    .dataframe thead th {\n",
              "        text-align: right;\n",
              "    }\n",
              "</style>\n",
              "<table border=\"1\" class=\"dataframe\">\n",
              "  <thead>\n",
              "    <tr style=\"text-align: right;\">\n",
              "      <th></th>\n",
              "      <th>state</th>\n",
              "      <th>expected_days</th>\n",
              "    </tr>\n",
              "  </thead>\n",
              "  <tbody>\n",
              "    <tr>\n",
              "      <th>0</th>\n",
              "      <td>symptoms-3</td>\n",
              "      <td>1.250000</td>\n",
              "    </tr>\n",
              "    <tr>\n",
              "      <th>1</th>\n",
              "      <td>symptoms-3</td>\n",
              "      <td>2.500000</td>\n",
              "    </tr>\n",
              "    <tr>\n",
              "      <th>2</th>\n",
              "      <td>symptoms-3</td>\n",
              "      <td>5.000000</td>\n",
              "    </tr>\n",
              "    <tr>\n",
              "      <th>3</th>\n",
              "      <td>symptoms-3</td>\n",
              "      <td>-0.000000</td>\n",
              "    </tr>\n",
              "    <tr>\n",
              "      <th>4</th>\n",
              "      <td>symptoms-3</td>\n",
              "      <td>10.000000</td>\n",
              "    </tr>\n",
              "    <tr>\n",
              "      <th>5</th>\n",
              "      <td>symptoms-3</td>\n",
              "      <td>6.666667</td>\n",
              "    </tr>\n",
              "    <tr>\n",
              "      <th>6</th>\n",
              "      <td>symptoms-3</td>\n",
              "      <td>3.333333</td>\n",
              "    </tr>\n",
              "  </tbody>\n",
              "</table>\n",
              "</div>"
            ],
            "text/plain": [
              "        state  expected_days\n",
              "0  symptoms-3       1.250000\n",
              "1  symptoms-3       2.500000\n",
              "2  symptoms-3       5.000000\n",
              "3  symptoms-3      -0.000000\n",
              "4  symptoms-3      10.000000\n",
              "5  symptoms-3       6.666667\n",
              "6  symptoms-3       3.333333"
            ]
          },
          "execution_count": 33,
          "metadata": {},
          "output_type": "execute_result"
        }
      ],
      "source": [
        "# YOUR CHANGES HERE\n",
        "# Build Dictionary from Part 5\n",
        "duration_policy = {states[i]: actions[a] for i, a in enumerate(a_5)}\n",
        "\n",
        "# Build the reward vector for the duration-optimal policy\n",
        "r_6 = np.zeros(S, dtype=float)\n",
        "for i, state in enumerate(states):\n",
        "    action = duration_policy[state]\n",
        "    # Get the reward for state-action pair\n",
        "    row = df_rewards_updated[(df_rewards_updated['state'] == state) & (df_rewards_updated['action'] == action)]\n",
        "    if not row.empty:\n",
        "        r_6[i] = row['reward'].values[0]\n",
        "\n",
        "# Build the transition matrix for the duration-optimal policy\n",
        "P_6 = np.zeros((S, S), dtype=float)\n",
        "for i, state in enumerate(states):\n",
        "    action = duration_policy[state]\n",
        "    # Get the transitions for state-action pair\n",
        "    transitions = df_transitions[(df_transitions['state'] == state) & (df_transitions['action'] == action)]\n",
        "    for _, row in transitions.iterrows():\n",
        "        j = state_idx[row['next_state']]\n",
        "        P_6[i, j] = row['probability']\n",
        "\n",
        "# Reshape for value_iteration\n",
        "r_6 = r_6.reshape(1, -1)\n",
        "P_6 = P_6.reshape(1, S, S)\n",
        "\n",
        "# Run the value iteration for the fixed policy\n",
        "gamma_6 = 1.0\n",
        "v_6 = value_iteration(r_6, P_6, gamma_6, max_iterations=10000, tolerance=1e-8) * -1\n",
        "\n",
        "# Save the results\n",
        "df_duration_days = pd.DataFrame({\n",
        "    'state':state,\n",
        "    'expected_days': v_6.flatten()\n",
        "})\n",
        "\n",
        "df_duration_days"
      ]
    },
    {
      "cell_type": "markdown",
      "metadata": {
        "id": "_Zf8j6_D_hbZ"
      },
      "source": [
        "Save the expected sick days for each state to a file \"minimum-duration-days.tsv\" with columns state and expected_sick_days."
      ]
    },
    {
      "cell_type": "code",
      "execution_count": 35,
      "metadata": {
        "id": "yWS2HNVl_o3P"
      },
      "outputs": [],
      "source": [
        "df_duration_days.to_csv(\"submission/minimum-duration-days.tsv\", sep='\\t', index=False)"
      ]
    },
    {
      "cell_type": "markdown",
      "metadata": {
        "id": "SVApozXF_pjI"
      },
      "source": [
        "Submit \"minimum-duration-days.tsv\" in Gradescope."
      ]
    },
    {
      "cell_type": "markdown",
      "metadata": {
        "id": "Znw87KK7_uv5"
      },
      "source": [
        "## Part 7: Speed vs Pampering\n",
        "\n",
        "Compute the expected discomfort using the policy to minimize days sick, and compare the results to the expected discomfort when optimizing to minimize discomfort."
      ]
    },
    {
      "cell_type": "code",
      "execution_count": 20,
      "metadata": {
        "id": "0AdnpD-6__y5"
      },
      "outputs": [
        {
          "data": {
            "text/plain": [
              "Ellipsis"
            ]
          },
          "execution_count": 20,
          "metadata": {},
          "output_type": "execute_result"
        }
      ],
      "source": [
        "# YOUR CHANGES HERE\n",
        "\n",
        "..."
      ]
    },
    {
      "cell_type": "markdown",
      "metadata": {
        "id": "M3ZVJ2lcAAkP"
      },
      "source": [
        "Save the results to a file \"policy-comparison.tsv\" with columns state, speed_discomfort, and minimize_discomfort."
      ]
    },
    {
      "cell_type": "code",
      "execution_count": 21,
      "metadata": {
        "id": "9H9EG0zTAMt1"
      },
      "outputs": [
        {
          "data": {
            "text/plain": [
              "Ellipsis"
            ]
          },
          "execution_count": 21,
          "metadata": {},
          "output_type": "execute_result"
        }
      ],
      "source": [
        "# YOUR CHANGES HERE\n",
        "\n",
        "..."
      ]
    },
    {
      "cell_type": "markdown",
      "metadata": {
        "id": "EVhLZuuaANNf"
      },
      "source": [
        "Submit \"policy-comparison.tsv\" in Gradescope."
      ]
    },
    {
      "cell_type": "markdown",
      "metadata": {
        "id": "smsTLuFcvR-I"
      },
      "source": [
        "## Part 8: Code\n",
        "\n",
        "Please submit a Jupyter notebook that can reproduce all your calculations and recreate the previously submitted files."
      ]
    },
    {
      "cell_type": "markdown",
      "metadata": {
        "id": "zi8lV2pbvWMs"
      },
      "source": [
        "## Part 9: Acknowledgements\n",
        "\n",
        "If you discussed this assignment with anyone, please acknowledge them here.\n",
        "If you did this assignment completely on your own, simply write none below.\n",
        "\n",
        "If you used any libraries not mentioned in this module's content, please list them with a brief explanation what you used them for. If you did not use any other libraries, simply write none below.\n",
        "\n",
        "If you used any generative AI tools, please add links to your transcripts below, and any other information that you feel is necessary to comply with the generative AI policy. If you did not use any generative AI tools, simply write none below."
      ]
    }
  ],
  "metadata": {
    "colab": {
      "toc_visible": false
    },
    "kernelspec": {
      "display_name": ".venv",
      "language": "python",
      "name": "python3"
    },
    "language_info": {
      "codemirror_mode": {
        "name": "ipython",
        "version": 3
      },
      "file_extension": ".py",
      "mimetype": "text/x-python",
      "name": "python",
      "nbconvert_exporter": "python",
      "pygments_lexer": "ipython3",
      "version": "3.13.2"
    }
  },
  "nbformat": 4,
  "nbformat_minor": 0
}
